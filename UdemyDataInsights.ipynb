{
  "nbformat": 4,
  "nbformat_minor": 0,
  "metadata": {
    "colab": {
      "name": "UdemyDataInsights.ipynb",
      "provenance": []
    },
    "kernelspec": {
      "name": "python3",
      "display_name": "Python 3"
    }
  },
  "cells": [
    {
      "cell_type": "markdown",
      "metadata": {
        "id": "oaihAaDBzo-l",
        "colab_type": "text"
      },
      "source": [
        "\n",
        "#**<center> Exploratory Data Analysis - Udemy Courses**\n",
        "---\n",
        "\n",
        "\n"
      ]
    },
    {
      "cell_type": "markdown",
      "metadata": {
        "id": "CfNcKy-svQSs",
        "colab_type": "text"
      },
      "source": [
        "# **Description**"
      ]
    },
    {
      "cell_type": "markdown",
      "metadata": {
        "id": "kFnP0iBivNLM",
        "colab_type": "text"
      },
      "source": [
        "&nbsp;&nbsp;&nbsp;&nbsp;&nbsp;This notebook is used for Exploratory Data Analysis on Udemy's courses.\n",
        "\n",
        "&nbsp;&nbsp;&nbsp;&nbsp;&nbsp;Udemy is a massive online open course (MOOC) platform that offers both free and paid courses. Anybody can create a course, a business model by which allowed Udemy to have hundreds of thousands of courses.\n",
        "\n",
        "&nbsp;&nbsp;&nbsp;&nbsp;&nbsp;The dataset contains 3,682 records of courses from 4 subjects (Business Finance, Graphic Design, Musical Instruments and Web Design) taken from Udemy."
      ]
    },
    {
      "cell_type": "markdown",
      "metadata": {
        "id": "28ec4XC1uNCr",
        "colab_type": "text"
      },
      "source": [
        "# **Group: PDS-20**\n",
        "\n",
        "\n",
        "\n"
      ]
    },
    {
      "cell_type": "markdown",
      "metadata": {
        "id": "34tALv9jvGUf",
        "colab_type": "text"
      },
      "source": [
        "1. Naa Ashiorkor Nortey\n",
        "\n",
        "2. Naa Lamle Boye\n",
        "\n",
        "3. Naa Norley Wayoe\n",
        "\n",
        "4. Nana Kwaku Owusu"
      ]
    },
    {
      "cell_type": "markdown",
      "metadata": {
        "id": "BuX_5IbQMJ9X",
        "colab_type": "text"
      },
      "source": [
        "# **Importing libraries and loading data**"
      ]
    },
    {
      "cell_type": "code",
      "metadata": {
        "id": "S7Si2QdBk7RD",
        "colab_type": "code",
        "colab": {
          "base_uri": "https://localhost:8080/",
          "height": 71
        },
        "outputId": "8fa5c434-c273-4d73-8d2e-cf54ed6442fd"
      },
      "source": [
        "import numpy as np\n",
        "import pandas as pd\n",
        "import matplotlib.pyplot as pp\n",
        "import seaborn as sns"
      ],
      "execution_count": null,
      "outputs": [
        {
          "output_type": "stream",
          "text": [
            "/usr/local/lib/python3.6/dist-packages/statsmodels/tools/_testing.py:19: FutureWarning: pandas.util.testing is deprecated. Use the functions in the public API at pandas.testing instead.\n",
            "  import pandas.util.testing as tm\n"
          ],
          "name": "stderr"
        }
      ]
    },
    {
      "cell_type": "code",
      "metadata": {
        "id": "gO6CubxDjOQo",
        "colab_type": "code",
        "colab": {
          "base_uri": "https://localhost:8080/",
          "height": 54
        },
        "outputId": "aa0fe6a1-cd20-4aac-c8ca-eaa5d1daf81a"
      },
      "source": [
        "#mount google drive and read csv file from it\n",
        "from google.colab import drive\n",
        "drive.mount('/content/drive')"
      ],
      "execution_count": null,
      "outputs": [
        {
          "output_type": "stream",
          "text": [
            "Drive already mounted at /content/drive; to attempt to forcibly remount, call drive.mount(\"/content/drive\", force_remount=True).\n"
          ],
          "name": "stdout"
        }
      ]
    },
    {
      "cell_type": "code",
      "metadata": {
        "id": "iOuZh2mJkAo7",
        "colab_type": "code",
        "colab": {}
      },
      "source": [
        "path = '/content/drive/My Drive/Colab Notebooks/D3.2_Assignment_Azubi_DS/udemy_courses.csv'"
      ],
      "execution_count": null,
      "outputs": []
    },
    {
      "cell_type": "code",
      "metadata": {
        "id": "BsDeDQvYlJ5D",
        "colab_type": "code",
        "colab": {}
      },
      "source": [
        "#load data with pandas\n",
        "udemy_data = pd.read_csv(path)\n",
        "\n",
        "# use the line below if not running in Google Colab\n",
        "#udemy_data = pd.read_csv('udemy_courses.csv')"
      ],
      "execution_count": null,
      "outputs": []
    },
    {
      "cell_type": "markdown",
      "metadata": {
        "id": "8xRD-ePZL2pL",
        "colab_type": "text"
      },
      "source": [
        "# **Data Exploration and Cleaning**"
      ]
    },
    {
      "cell_type": "code",
      "metadata": {
        "id": "1LcYD74xwmpf",
        "colab_type": "code",
        "colab": {
          "base_uri": "https://localhost:8080/",
          "height": 932
        },
        "outputId": "92468492-18a1-450d-91cf-a81f41a7339c"
      },
      "source": [
        "#view data \n",
        "udemy_data"
      ],
      "execution_count": null,
      "outputs": [
        {
          "output_type": "execute_result",
          "data": {
            "text/html": [
              "<div>\n",
              "<style scoped>\n",
              "    .dataframe tbody tr th:only-of-type {\n",
              "        vertical-align: middle;\n",
              "    }\n",
              "\n",
              "    .dataframe tbody tr th {\n",
              "        vertical-align: top;\n",
              "    }\n",
              "\n",
              "    .dataframe thead th {\n",
              "        text-align: right;\n",
              "    }\n",
              "</style>\n",
              "<table border=\"1\" class=\"dataframe\">\n",
              "  <thead>\n",
              "    <tr style=\"text-align: right;\">\n",
              "      <th></th>\n",
              "      <th>course_id</th>\n",
              "      <th>course_title</th>\n",
              "      <th>url</th>\n",
              "      <th>is_paid</th>\n",
              "      <th>price</th>\n",
              "      <th>num_subscribers</th>\n",
              "      <th>num_reviews</th>\n",
              "      <th>num_lectures</th>\n",
              "      <th>level</th>\n",
              "      <th>content_duration</th>\n",
              "      <th>published_timestamp</th>\n",
              "      <th>subject</th>\n",
              "    </tr>\n",
              "  </thead>\n",
              "  <tbody>\n",
              "    <tr>\n",
              "      <th>0</th>\n",
              "      <td>1070968</td>\n",
              "      <td>Ultimate Investment Banking Course</td>\n",
              "      <td>https://www.udemy.com/ultimate-investment-bank...</td>\n",
              "      <td>True</td>\n",
              "      <td>200</td>\n",
              "      <td>2147</td>\n",
              "      <td>23</td>\n",
              "      <td>51</td>\n",
              "      <td>All Levels</td>\n",
              "      <td>1.5</td>\n",
              "      <td>2017-01-18T20:58:58Z</td>\n",
              "      <td>Business Finance</td>\n",
              "    </tr>\n",
              "    <tr>\n",
              "      <th>1</th>\n",
              "      <td>1113822</td>\n",
              "      <td>Complete GST Course &amp; Certification - Grow You...</td>\n",
              "      <td>https://www.udemy.com/goods-and-services-tax/</td>\n",
              "      <td>True</td>\n",
              "      <td>75</td>\n",
              "      <td>2792</td>\n",
              "      <td>923</td>\n",
              "      <td>274</td>\n",
              "      <td>All Levels</td>\n",
              "      <td>39.0</td>\n",
              "      <td>2017-03-09T16:34:20Z</td>\n",
              "      <td>Business Finance</td>\n",
              "    </tr>\n",
              "    <tr>\n",
              "      <th>2</th>\n",
              "      <td>1006314</td>\n",
              "      <td>Financial Modeling for Business Analysts and C...</td>\n",
              "      <td>https://www.udemy.com/financial-modeling-for-b...</td>\n",
              "      <td>True</td>\n",
              "      <td>45</td>\n",
              "      <td>2174</td>\n",
              "      <td>74</td>\n",
              "      <td>51</td>\n",
              "      <td>Intermediate Level</td>\n",
              "      <td>2.5</td>\n",
              "      <td>2016-12-19T19:26:30Z</td>\n",
              "      <td>Business Finance</td>\n",
              "    </tr>\n",
              "    <tr>\n",
              "      <th>3</th>\n",
              "      <td>1210588</td>\n",
              "      <td>Beginner to Pro - Financial Analysis in Excel ...</td>\n",
              "      <td>https://www.udemy.com/complete-excel-finance-c...</td>\n",
              "      <td>True</td>\n",
              "      <td>95</td>\n",
              "      <td>2451</td>\n",
              "      <td>11</td>\n",
              "      <td>36</td>\n",
              "      <td>All Levels</td>\n",
              "      <td>3.0</td>\n",
              "      <td>2017-05-30T20:07:24Z</td>\n",
              "      <td>Business Finance</td>\n",
              "    </tr>\n",
              "    <tr>\n",
              "      <th>4</th>\n",
              "      <td>1011058</td>\n",
              "      <td>How To Maximize Your Profits Trading Options</td>\n",
              "      <td>https://www.udemy.com/how-to-maximize-your-pro...</td>\n",
              "      <td>True</td>\n",
              "      <td>200</td>\n",
              "      <td>1276</td>\n",
              "      <td>45</td>\n",
              "      <td>26</td>\n",
              "      <td>Intermediate Level</td>\n",
              "      <td>2.0</td>\n",
              "      <td>2016-12-13T14:57:18Z</td>\n",
              "      <td>Business Finance</td>\n",
              "    </tr>\n",
              "    <tr>\n",
              "      <th>...</th>\n",
              "      <td>...</td>\n",
              "      <td>...</td>\n",
              "      <td>...</td>\n",
              "      <td>...</td>\n",
              "      <td>...</td>\n",
              "      <td>...</td>\n",
              "      <td>...</td>\n",
              "      <td>...</td>\n",
              "      <td>...</td>\n",
              "      <td>...</td>\n",
              "      <td>...</td>\n",
              "      <td>...</td>\n",
              "    </tr>\n",
              "    <tr>\n",
              "      <th>3673</th>\n",
              "      <td>775618</td>\n",
              "      <td>Learn jQuery from Scratch - Master of JavaScri...</td>\n",
              "      <td>https://www.udemy.com/easy-jquery-for-beginner...</td>\n",
              "      <td>True</td>\n",
              "      <td>100</td>\n",
              "      <td>1040</td>\n",
              "      <td>14</td>\n",
              "      <td>21</td>\n",
              "      <td>All Levels</td>\n",
              "      <td>2.0</td>\n",
              "      <td>2016-06-14T17:36:46Z</td>\n",
              "      <td>Web Development</td>\n",
              "    </tr>\n",
              "    <tr>\n",
              "      <th>3674</th>\n",
              "      <td>1088178</td>\n",
              "      <td>How To Design A WordPress Website With No Codi...</td>\n",
              "      <td>https://www.udemy.com/how-to-make-a-wordpress-...</td>\n",
              "      <td>True</td>\n",
              "      <td>25</td>\n",
              "      <td>306</td>\n",
              "      <td>3</td>\n",
              "      <td>42</td>\n",
              "      <td>Beginner Level</td>\n",
              "      <td>3.5</td>\n",
              "      <td>2017-03-10T22:24:30Z</td>\n",
              "      <td>Web Development</td>\n",
              "    </tr>\n",
              "    <tr>\n",
              "      <th>3675</th>\n",
              "      <td>635248</td>\n",
              "      <td>Learn and Build using Polymer</td>\n",
              "      <td>https://www.udemy.com/learn-and-build-using-po...</td>\n",
              "      <td>True</td>\n",
              "      <td>40</td>\n",
              "      <td>513</td>\n",
              "      <td>169</td>\n",
              "      <td>48</td>\n",
              "      <td>All Levels</td>\n",
              "      <td>3.5</td>\n",
              "      <td>2015-12-30T16:41:42Z</td>\n",
              "      <td>Web Development</td>\n",
              "    </tr>\n",
              "    <tr>\n",
              "      <th>3676</th>\n",
              "      <td>905096</td>\n",
              "      <td>CSS Animations: Create Amazing Effects on Your...</td>\n",
              "      <td>https://www.udemy.com/css-animations-create-am...</td>\n",
              "      <td>True</td>\n",
              "      <td>50</td>\n",
              "      <td>300</td>\n",
              "      <td>31</td>\n",
              "      <td>38</td>\n",
              "      <td>All Levels</td>\n",
              "      <td>3.0</td>\n",
              "      <td>2016-08-11T19:06:15Z</td>\n",
              "      <td>Web Development</td>\n",
              "    </tr>\n",
              "    <tr>\n",
              "      <th>3677</th>\n",
              "      <td>297602</td>\n",
              "      <td>Using MODX CMS to Build Websites: A Beginner's...</td>\n",
              "      <td>https://www.udemy.com/using-modx-cms-to-build-...</td>\n",
              "      <td>True</td>\n",
              "      <td>45</td>\n",
              "      <td>901</td>\n",
              "      <td>36</td>\n",
              "      <td>20</td>\n",
              "      <td>Beginner Level</td>\n",
              "      <td>2.0</td>\n",
              "      <td>2014-09-28T19:51:11Z</td>\n",
              "      <td>Web Development</td>\n",
              "    </tr>\n",
              "  </tbody>\n",
              "</table>\n",
              "<p>3678 rows × 12 columns</p>\n",
              "</div>"
            ],
            "text/plain": [
              "      course_id  ...           subject\n",
              "0       1070968  ...  Business Finance\n",
              "1       1113822  ...  Business Finance\n",
              "2       1006314  ...  Business Finance\n",
              "3       1210588  ...  Business Finance\n",
              "4       1011058  ...  Business Finance\n",
              "...         ...  ...               ...\n",
              "3673     775618  ...   Web Development\n",
              "3674    1088178  ...   Web Development\n",
              "3675     635248  ...   Web Development\n",
              "3676     905096  ...   Web Development\n",
              "3677     297602  ...   Web Development\n",
              "\n",
              "[3678 rows x 12 columns]"
            ]
          },
          "metadata": {
            "tags": []
          },
          "execution_count": 56
        }
      ]
    },
    {
      "cell_type": "code",
      "metadata": {
        "id": "3A8zDltpx8Yl",
        "colab_type": "code",
        "colab": {
          "base_uri": "https://localhost:8080/",
          "height": 34
        },
        "outputId": "a0e5ff2c-cf80-4e69-9277-e7d2f195f1f3"
      },
      "source": [
        "#determine whether null values exist in dataframe\n",
        "udemy_data.isnull().values.any()"
      ],
      "execution_count": null,
      "outputs": [
        {
          "output_type": "execute_result",
          "data": {
            "text/plain": [
              "False"
            ]
          },
          "metadata": {
            "tags": []
          },
          "execution_count": 57
        }
      ]
    },
    {
      "cell_type": "code",
      "metadata": {
        "id": "4prAzEDeDi_Y",
        "colab_type": "code",
        "colab": {
          "base_uri": "https://localhost:8080/",
          "height": 153
        },
        "outputId": "550e1916-a869-4e91-8a66-08dee997a5ab"
      },
      "source": [
        "udemy_data = udemy_data.drop(columns='url') #dropped the column url since it's not relevant\n",
        "print(udemy_data.head())"
      ],
      "execution_count": null,
      "outputs": [
        {
          "output_type": "stream",
          "text": [
            "   course_id  ...           subject\n",
            "0    1070968  ...  Business Finance\n",
            "1    1113822  ...  Business Finance\n",
            "2    1006314  ...  Business Finance\n",
            "3    1210588  ...  Business Finance\n",
            "4    1011058  ...  Business Finance\n",
            "\n",
            "[5 rows x 11 columns]\n"
          ],
          "name": "stdout"
        }
      ]
    },
    {
      "cell_type": "code",
      "metadata": {
        "id": "uQAxF29mD2rk",
        "colab_type": "code",
        "colab": {
          "base_uri": "https://localhost:8080/",
          "height": 153
        },
        "outputId": "1bb98395-b1bb-49cd-cffb-4f6ffbbe11f4"
      },
      "source": [
        "udemy_data = udemy_data.drop(columns='course_title') #dropped the column course title since it's not unique\n",
        "print(udemy_data.head())"
      ],
      "execution_count": null,
      "outputs": [
        {
          "output_type": "stream",
          "text": [
            "   course_id  is_paid  ...   published_timestamp           subject\n",
            "0    1070968     True  ...  2017-01-18T20:58:58Z  Business Finance\n",
            "1    1113822     True  ...  2017-03-09T16:34:20Z  Business Finance\n",
            "2    1006314     True  ...  2016-12-19T19:26:30Z  Business Finance\n",
            "3    1210588     True  ...  2017-05-30T20:07:24Z  Business Finance\n",
            "4    1011058     True  ...  2016-12-13T14:57:18Z  Business Finance\n",
            "\n",
            "[5 rows x 10 columns]\n"
          ],
          "name": "stdout"
        }
      ]
    },
    {
      "cell_type": "code",
      "metadata": {
        "id": "mkMK5T2tErNS",
        "colab_type": "code",
        "colab": {
          "base_uri": "https://localhost:8080/",
          "height": 255
        },
        "outputId": "841f2506-a8f8-469b-e550-91ba8f6a07ba"
      },
      "source": [
        "udemy_data = udemy_data.drop_duplicates() #this will remove the duplicate rows.\n",
        "print(udemy_data)"
      ],
      "execution_count": null,
      "outputs": [
        {
          "output_type": "stream",
          "text": [
            "      course_id  is_paid  ...   published_timestamp           subject\n",
            "0       1070968     True  ...  2017-01-18T20:58:58Z  Business Finance\n",
            "1       1113822     True  ...  2017-03-09T16:34:20Z  Business Finance\n",
            "2       1006314     True  ...  2016-12-19T19:26:30Z  Business Finance\n",
            "3       1210588     True  ...  2017-05-30T20:07:24Z  Business Finance\n",
            "4       1011058     True  ...  2016-12-13T14:57:18Z  Business Finance\n",
            "...         ...      ...  ...                   ...               ...\n",
            "3673     775618     True  ...  2016-06-14T17:36:46Z   Web Development\n",
            "3674    1088178     True  ...  2017-03-10T22:24:30Z   Web Development\n",
            "3675     635248     True  ...  2015-12-30T16:41:42Z   Web Development\n",
            "3676     905096     True  ...  2016-08-11T19:06:15Z   Web Development\n",
            "3677     297602     True  ...  2014-09-28T19:51:11Z   Web Development\n",
            "\n",
            "[3672 rows x 10 columns]\n"
          ],
          "name": "stdout"
        }
      ]
    },
    {
      "cell_type": "markdown",
      "metadata": {
        "id": "DMvgyW5rjrF9",
        "colab_type": "text"
      },
      "source": [
        "6 duplicates were removed from the dataset\n"
      ]
    },
    {
      "cell_type": "code",
      "metadata": {
        "id": "xCFdVLxMEO_A",
        "colab_type": "code",
        "colab": {
          "base_uri": "https://localhost:8080/",
          "height": 279
        },
        "outputId": "66d42a15-27e6-4b63-d8ab-ca345aa1200c"
      },
      "source": [
        "#plotting a scatter plot to determine if there are any outliers\n",
        "udemy_data.plot(kind='scatter' , x='subject' , y='num_subscribers')\n",
        "pp.show()"
      ],
      "execution_count": null,
      "outputs": [
        {
          "output_type": "display_data",
          "data": {
            "image/png": "[encoded data removed]",
            "text/plain": [
              "<Figure size 432x288 with 1 Axes>"
            ]
          },
          "metadata": {
            "tags": [],
            "needs_background": "light"
          }
        }
      ]
    },
    {
      "cell_type": "markdown",
      "metadata": {
        "id": "hMV4oB0Vj0hV",
        "colab_type": "text"
      },
      "source": [
        "From the scatter plot above, there were outliers in the subject web development in relation to the number of subscribers\n"
      ]
    },
    {
      "cell_type": "code",
      "metadata": {
        "id": "AXzRAFYHEXtE",
        "colab_type": "code",
        "colab": {
          "base_uri": "https://localhost:8080/",
          "height": 306
        },
        "outputId": "b9a7246f-9879-432d-fbdb-dbee1de922d3"
      },
      "source": [
        "udemy_data.info()"
      ],
      "execution_count": null,
      "outputs": [
        {
          "output_type": "stream",
          "text": [
            "<class 'pandas.core.frame.DataFrame'>\n",
            "Int64Index: 3672 entries, 0 to 3677\n",
            "Data columns (total 10 columns):\n",
            " #   Column               Non-Null Count  Dtype  \n",
            "---  ------               --------------  -----  \n",
            " 0   course_id            3672 non-null   int64  \n",
            " 1   is_paid              3672 non-null   bool   \n",
            " 2   price                3672 non-null   int64  \n",
            " 3   num_subscribers      3672 non-null   int64  \n",
            " 4   num_reviews          3672 non-null   int64  \n",
            " 5   num_lectures         3672 non-null   int64  \n",
            " 6   level                3672 non-null   object \n",
            " 7   content_duration     3672 non-null   float64\n",
            " 8   published_timestamp  3672 non-null   object \n",
            " 9   subject              3672 non-null   object \n",
            "dtypes: bool(1), float64(1), int64(5), object(3)\n",
            "memory usage: 290.5+ KB\n"
          ],
          "name": "stdout"
        }
      ]
    },
    {
      "cell_type": "code",
      "metadata": {
        "id": "3sx0OEV-E4ba",
        "colab_type": "code",
        "colab": {
          "base_uri": "https://localhost:8080/",
          "height": 34
        },
        "outputId": "b9a7c684-73df-491c-af7e-e45f554b333d"
      },
      "source": [
        "udemy_data.shape"
      ],
      "execution_count": null,
      "outputs": [
        {
          "output_type": "execute_result",
          "data": {
            "text/plain": [
              "(3672, 10)"
            ]
          },
          "metadata": {
            "tags": []
          },
          "execution_count": 63
        }
      ]
    },
    {
      "cell_type": "code",
      "metadata": {
        "id": "JskV7-CnFbmX",
        "colab_type": "code",
        "colab": {
          "base_uri": "https://localhost:8080/",
          "height": 296
        },
        "outputId": "94ead63b-cc19-4e76-c95d-9949056d15d5"
      },
      "source": [
        "#checking if there are any outliers in the price\n",
        "sns.boxplot(x=udemy_data['price'])"
      ],
      "execution_count": null,
      "outputs": [
        {
          "output_type": "execute_result",
          "data": {
            "text/plain": [
              "<matplotlib.axes._subplots.AxesSubplot at 0x7f4a9f7d4240>"
            ]
          },
          "metadata": {
            "tags": []
          },
          "execution_count": 64
        },
        {
          "output_type": "display_data",
          "data": {
            "image/png": "[encoded data removed]",
            "text/plain": [
              "<Figure size 432x288 with 1 Axes>"
            ]
          },
          "metadata": {
            "tags": [],
            "needs_background": "light"
          }
        }
      ]
    },
    {
      "cell_type": "markdown",
      "metadata": {
        "id": "TTHqZswhkI_U",
        "colab_type": "text"
      },
      "source": [
        "There were no outliers in the price\n"
      ]
    },
    {
      "cell_type": "code",
      "metadata": {
        "id": "CnAaY7-QFuIA",
        "colab_type": "code",
        "colab": {
          "base_uri": "https://localhost:8080/",
          "height": 297
        },
        "outputId": "763caff2-5eba-48dc-a81c-c9c511208f20"
      },
      "source": [
        "#checking if there are any outliers in number of reviews\n",
        "sns.boxplot(x=udemy_data['num_reviews'])"
      ],
      "execution_count": null,
      "outputs": [
        {
          "output_type": "execute_result",
          "data": {
            "text/plain": [
              "<matplotlib.axes._subplots.AxesSubplot at 0x7f4a9f4b8240>"
            ]
          },
          "metadata": {
            "tags": []
          },
          "execution_count": 65
        },
        {
          "output_type": "display_data",
          "data": {
            "image/png": "[encoded data removed]",
            "text/plain": [
              "<Figure size 432x288 with 1 Axes>"
            ]
          },
          "metadata": {
            "tags": [],
            "needs_background": "light"
          }
        }
      ]
    },
    {
      "cell_type": "code",
      "metadata": {
        "id": "ZoZqPhrkGD5E",
        "colab_type": "code",
        "colab": {
          "base_uri": "https://localhost:8080/",
          "height": 297
        },
        "outputId": "0c4969b7-4cba-4c22-e3b9-6d877d46721b"
      },
      "source": [
        "#checking if there are any outliers in number of lectures\n",
        "sns.boxplot(x=udemy_data['num_lectures'])"
      ],
      "execution_count": null,
      "outputs": [
        {
          "output_type": "execute_result",
          "data": {
            "text/plain": [
              "<matplotlib.axes._subplots.AxesSubplot at 0x7f4a9f545c50>"
            ]
          },
          "metadata": {
            "tags": []
          },
          "execution_count": 66
        },
        {
          "output_type": "display_data",
          "data": {
            "image/png": "[encoded data removed]",
            "text/plain": [
              "<Figure size 432x288 with 1 Axes>"
            ]
          },
          "metadata": {
            "tags": [],
            "needs_background": "light"
          }
        }
      ]
    },
    {
      "cell_type": "markdown",
      "metadata": {
        "id": "vRwZVAIskYvh",
        "colab_type": "text"
      },
      "source": [
        "There were outliers in the number of lectures "
      ]
    },
    {
      "cell_type": "code",
      "metadata": {
        "id": "_41da-m4GNdR",
        "colab_type": "code",
        "colab": {
          "base_uri": "https://localhost:8080/",
          "height": 297
        },
        "outputId": "e1907c44-759a-4c6d-c740-53831ac359d9"
      },
      "source": [
        "#checking if there are any outliers in content duration\n",
        "sns.boxplot(x=udemy_data['content_duration'])"
      ],
      "execution_count": null,
      "outputs": [
        {
          "output_type": "execute_result",
          "data": {
            "text/plain": [
              "<matplotlib.axes._subplots.AxesSubplot at 0x7f4a9f2cb940>"
            ]
          },
          "metadata": {
            "tags": []
          },
          "execution_count": 67
        },
        {
          "output_type": "display_data",
          "data": {
            "image/png": "[encoded data removed]",
            "text/plain": [
              "<Figure size 432x288 with 1 Axes>"
            ]
          },
          "metadata": {
            "tags": [],
            "needs_background": "light"
          }
        }
      ]
    },
    {
      "cell_type": "markdown",
      "metadata": {
        "id": "3ZDULohlkiks",
        "colab_type": "text"
      },
      "source": [
        "There were no outliers in the content duration"
      ]
    },
    {
      "cell_type": "code",
      "metadata": {
        "id": "0KrRcgG5GU2L",
        "colab_type": "code",
        "colab": {
          "base_uri": "https://localhost:8080/",
          "height": 296
        },
        "outputId": "8e8ab5ee-a0c8-4b4d-887b-7ea8a6b0e883"
      },
      "source": [
        "#checking if there are any outliers in number of subscribers\n",
        "sns.boxplot(x=udemy_data['subject'], y=udemy_data['num_subscribers'])"
      ],
      "execution_count": null,
      "outputs": [
        {
          "output_type": "execute_result",
          "data": {
            "text/plain": [
              "<matplotlib.axes._subplots.AxesSubplot at 0x7f4a9f2ad6d8>"
            ]
          },
          "metadata": {
            "tags": []
          },
          "execution_count": 68
        },
        {
          "output_type": "display_data",
          "data": {
            "image/png": "[encoded data removed]",
            "text/plain": [
              "<Figure size 432x288 with 1 Axes>"
            ]
          },
          "metadata": {
            "tags": [],
            "needs_background": "light"
          }
        }
      ]
    },
    {
      "cell_type": "markdown",
      "metadata": {
        "id": "t_AXVYN7kww9",
        "colab_type": "text"
      },
      "source": [
        "There were outliers in the number of subscribers with relation to the subject web development\n"
      ]
    },
    {
      "cell_type": "code",
      "metadata": {
        "id": "ER3bKtm_GkDQ",
        "colab_type": "code",
        "colab": {
          "base_uri": "https://localhost:8080/",
          "height": 296
        },
        "outputId": "a034772f-3eac-4955-9a59-93085b075f3e"
      },
      "source": [
        "#checking if there are any outliers in number of reviews\n",
        "sns.boxplot(x=udemy_data['subject'], y=udemy_data['num_reviews'])"
      ],
      "execution_count": null,
      "outputs": [
        {
          "output_type": "execute_result",
          "data": {
            "text/plain": [
              "<matplotlib.axes._subplots.AxesSubplot at 0x7f4a9f1df2e8>"
            ]
          },
          "metadata": {
            "tags": []
          },
          "execution_count": 69
        },
        {
          "output_type": "display_data",
          "data": {
            "image/png": "[encoded data removed]",
            "text/plain": [
              "<Figure size 432x288 with 1 Axes>"
            ]
          },
          "metadata": {
            "tags": [],
            "needs_background": "light"
          }
        }
      ]
    },
    {
      "cell_type": "markdown",
      "metadata": {
        "id": "A6O1xR8sk-7x",
        "colab_type": "text"
      },
      "source": [
        "There were no outliers in the number of reviews \n"
      ]
    },
    {
      "cell_type": "code",
      "metadata": {
        "id": "gX1Y7zyjGou0",
        "colab_type": "code",
        "colab": {
          "base_uri": "https://localhost:8080/",
          "height": 296
        },
        "outputId": "82f49661-645e-4c36-dc99-99282825787f"
      },
      "source": [
        "#checking if there are any outliers in number of lectures\n",
        "sns.boxplot(x=udemy_data['subject'], y=udemy_data['num_lectures'])"
      ],
      "execution_count": null,
      "outputs": [
        {
          "output_type": "execute_result",
          "data": {
            "text/plain": [
              "<matplotlib.axes._subplots.AxesSubplot at 0x7f4a9f2940b8>"
            ]
          },
          "metadata": {
            "tags": []
          },
          "execution_count": 70
        },
        {
          "output_type": "display_data",
          "data": {
            "image/png": "[encoded data removed]",
            "text/plain": [
              "<Figure size 432x288 with 1 Axes>"
            ]
          },
          "metadata": {
            "tags": [],
            "needs_background": "light"
          }
        }
      ]
    },
    {
      "cell_type": "markdown",
      "metadata": {
        "id": "T9pnTQlKlGrU",
        "colab_type": "text"
      },
      "source": [
        "There were no outliers in the number of lectures"
      ]
    },
    {
      "cell_type": "code",
      "metadata": {
        "id": "JmRNV0ylGxMZ",
        "colab_type": "code",
        "colab": {
          "base_uri": "https://localhost:8080/",
          "height": 296
        },
        "outputId": "a9a4cfdf-d2a7-4949-e113-80b103086e10"
      },
      "source": [
        "#checking if there are any outliers in content duration\n",
        "sns.boxplot(x=udemy_data['subject'], y=udemy_data['content_duration'])"
      ],
      "execution_count": null,
      "outputs": [
        {
          "output_type": "execute_result",
          "data": {
            "text/plain": [
              "<matplotlib.axes._subplots.AxesSubplot at 0x7f4a9f0a8710>"
            ]
          },
          "metadata": {
            "tags": []
          },
          "execution_count": 71
        },
        {
          "output_type": "display_data",
          "data": {
            "image/png": "[encoded data removed]",
            "text/plain": [
              "<Figure size 432x288 with 1 Axes>"
            ]
          },
          "metadata": {
            "tags": [],
            "needs_background": "light"
          }
        }
      ]
    },
    {
      "cell_type": "markdown",
      "metadata": {
        "id": "1SSfs5iTlL70",
        "colab_type": "text"
      },
      "source": [
        "There were no outliers in the content duration"
      ]
    },
    {
      "cell_type": "code",
      "metadata": {
        "id": "ykzYKgG5G_Di",
        "colab_type": "code",
        "colab": {
          "base_uri": "https://localhost:8080/",
          "height": 296
        },
        "outputId": "a3e9820b-6e98-41de-97fd-bc7f889ad9aa"
      },
      "source": [
        "#checking for outliers in number of subscribers using a scatter plot\n",
        "udemy_data.plot(x='subject',y='num_subscribers',kind='scatter')"
      ],
      "execution_count": null,
      "outputs": [
        {
          "output_type": "execute_result",
          "data": {
            "text/plain": [
              "<matplotlib.axes._subplots.AxesSubplot at 0x7f4a9f029f28>"
            ]
          },
          "metadata": {
            "tags": []
          },
          "execution_count": 72
        },
        {
          "output_type": "display_data",
          "data": {
            "image/png": "[encoded data removed]",
            "text/plain": [
              "<Figure size 432x288 with 1 Axes>"
            ]
          },
          "metadata": {
            "tags": [],
            "needs_background": "light"
          }
        }
      ]
    },
    {
      "cell_type": "markdown",
      "metadata": {
        "id": "eDNB7Dz7lSvp",
        "colab_type": "text"
      },
      "source": [
        "There were outliers in the subject web development in relation to the number of subscribers"
      ]
    },
    {
      "cell_type": "code",
      "metadata": {
        "id": "H0yj1GZXHJsw",
        "colab_type": "code",
        "colab": {
          "base_uri": "https://localhost:8080/",
          "height": 296
        },
        "outputId": "0b19d7b2-9b30-438d-a0e6-d0cf90d83748"
      },
      "source": [
        "#checking for outliers in price using a scatter plot\n",
        "udemy_data.plot(x='subject',y='price',kind='scatter')"
      ],
      "execution_count": null,
      "outputs": [
        {
          "output_type": "execute_result",
          "data": {
            "text/plain": [
              "<matplotlib.axes._subplots.AxesSubplot at 0x7f4a9ef98470>"
            ]
          },
          "metadata": {
            "tags": []
          },
          "execution_count": 73
        },
        {
          "output_type": "display_data",
          "data": {
            "image/png": "[encoded data removed]",
            "text/plain": [
              "<Figure size 432x288 with 1 Axes>"
            ]
          },
          "metadata": {
            "tags": [],
            "needs_background": "light"
          }
        }
      ]
    },
    {
      "cell_type": "markdown",
      "metadata": {
        "id": "Ag5DhdHrlcVw",
        "colab_type": "text"
      },
      "source": [
        "There were no outliers in relation to the subjects and the price"
      ]
    },
    {
      "cell_type": "code",
      "metadata": {
        "id": "mq3iTAegHaOR",
        "colab_type": "code",
        "colab": {
          "base_uri": "https://localhost:8080/",
          "height": 296
        },
        "outputId": "9a1eeaff-e3ae-4e26-9284-4e5e5aea7ff6"
      },
      "source": [
        "#checking for outliers in content duration using a scatter plot\n",
        "udemy_data.plot(x='subject',y='content_duration',kind='scatter')"
      ],
      "execution_count": null,
      "outputs": [
        {
          "output_type": "execute_result",
          "data": {
            "text/plain": [
              "<matplotlib.axes._subplots.AxesSubplot at 0x7f4a9f2a4400>"
            ]
          },
          "metadata": {
            "tags": []
          },
          "execution_count": 74
        },
        {
          "output_type": "display_data",
          "data": {
            "image/png": "[encoded data removed]",
            "text/plain": [
              "<Figure size 432x288 with 1 Axes>"
            ]
          },
          "metadata": {
            "tags": [],
            "needs_background": "light"
          }
        }
      ]
    },
    {
      "cell_type": "code",
      "metadata": {
        "id": "PgTVxRWpHmcp",
        "colab_type": "code",
        "colab": {
          "base_uri": "https://localhost:8080/",
          "height": 296
        },
        "outputId": "46288c23-7c6a-44b9-979b-26b879038886"
      },
      "source": [
        "#checking for outliers in level using a scatter plot\n",
        "udemy_data.plot(x='subject',y='level',kind='scatter')"
      ],
      "execution_count": null,
      "outputs": [
        {
          "output_type": "execute_result",
          "data": {
            "text/plain": [
              "<matplotlib.axes._subplots.AxesSubplot at 0x7f4a9f4c7588>"
            ]
          },
          "metadata": {
            "tags": []
          },
          "execution_count": 75
        },
        {
          "output_type": "display_data",
          "data": {
            "image/png": "[encoded data removed]",
            "text/plain": [
              "<Figure size 432x288 with 1 Axes>"
            ]
          },
          "metadata": {
            "tags": [],
            "needs_background": "light"
          }
        }
      ]
    },
    {
      "cell_type": "code",
      "metadata": {
        "id": "AssGD5SG9TZo",
        "colab_type": "code",
        "colab": {
          "base_uri": "https://localhost:8080/",
          "height": 640
        },
        "outputId": "70294e2f-7b16-444c-e76e-138ce4d24652"
      },
      "source": [
        "#use course ID as index\n",
        "udemy_data.set_index('course_id').sort_index()"
      ],
      "execution_count": null,
      "outputs": [
        {
          "output_type": "execute_result",
          "data": {
            "text/html": [
              "<div>\n",
              "<style scoped>\n",
              "    .dataframe tbody tr th:only-of-type {\n",
              "        vertical-align: middle;\n",
              "    }\n",
              "\n",
              "    .dataframe tbody tr th {\n",
              "        vertical-align: top;\n",
              "    }\n",
              "\n",
              "    .dataframe thead th {\n",
              "        text-align: right;\n",
              "    }\n",
              "</style>\n",
              "<table border=\"1\" class=\"dataframe\">\n",
              "  <thead>\n",
              "    <tr style=\"text-align: right;\">\n",
              "      <th></th>\n",
              "      <th>is_paid</th>\n",
              "      <th>price</th>\n",
              "      <th>num_subscribers</th>\n",
              "      <th>num_reviews</th>\n",
              "      <th>num_lectures</th>\n",
              "      <th>level</th>\n",
              "      <th>content_duration</th>\n",
              "      <th>published_timestamp</th>\n",
              "      <th>subject</th>\n",
              "    </tr>\n",
              "    <tr>\n",
              "      <th>course_id</th>\n",
              "      <th></th>\n",
              "      <th></th>\n",
              "      <th></th>\n",
              "      <th></th>\n",
              "      <th></th>\n",
              "      <th></th>\n",
              "      <th></th>\n",
              "      <th></th>\n",
              "      <th></th>\n",
              "    </tr>\n",
              "  </thead>\n",
              "  <tbody>\n",
              "    <tr>\n",
              "      <th>8324</th>\n",
              "      <td>True</td>\n",
              "      <td>20</td>\n",
              "      <td>3697</td>\n",
              "      <td>195</td>\n",
              "      <td>48</td>\n",
              "      <td>All Levels</td>\n",
              "      <td>3.0</td>\n",
              "      <td>2011-07-09T05:43:31Z</td>\n",
              "      <td>Web Development</td>\n",
              "    </tr>\n",
              "    <tr>\n",
              "      <th>8325</th>\n",
              "      <td>True</td>\n",
              "      <td>20</td>\n",
              "      <td>12458</td>\n",
              "      <td>253</td>\n",
              "      <td>82</td>\n",
              "      <td>All Levels</td>\n",
              "      <td>4.0</td>\n",
              "      <td>2011-09-09T15:28:59Z</td>\n",
              "      <td>Web Development</td>\n",
              "    </tr>\n",
              "    <tr>\n",
              "      <th>11153</th>\n",
              "      <td>True</td>\n",
              "      <td>50</td>\n",
              "      <td>7014</td>\n",
              "      <td>95</td>\n",
              "      <td>62</td>\n",
              "      <td>All Levels</td>\n",
              "      <td>4.5</td>\n",
              "      <td>2011-11-29T01:29:11Z</td>\n",
              "      <td>Web Development</td>\n",
              "    </tr>\n",
              "    <tr>\n",
              "      <th>11174</th>\n",
              "      <td>True</td>\n",
              "      <td>120</td>\n",
              "      <td>69186</td>\n",
              "      <td>2408</td>\n",
              "      <td>197</td>\n",
              "      <td>All Levels</td>\n",
              "      <td>27.5</td>\n",
              "      <td>2011-11-19T21:51:20Z</td>\n",
              "      <td>Web Development</td>\n",
              "    </tr>\n",
              "    <tr>\n",
              "      <th>11475</th>\n",
              "      <td>True</td>\n",
              "      <td>100</td>\n",
              "      <td>26673</td>\n",
              "      <td>1090</td>\n",
              "      <td>185</td>\n",
              "      <td>All Levels</td>\n",
              "      <td>12.0</td>\n",
              "      <td>2011-12-20T15:29:25Z</td>\n",
              "      <td>Web Development</td>\n",
              "    </tr>\n",
              "    <tr>\n",
              "      <th>...</th>\n",
              "      <td>...</td>\n",
              "      <td>...</td>\n",
              "      <td>...</td>\n",
              "      <td>...</td>\n",
              "      <td>...</td>\n",
              "      <td>...</td>\n",
              "      <td>...</td>\n",
              "      <td>...</td>\n",
              "      <td>...</td>\n",
              "    </tr>\n",
              "    <tr>\n",
              "      <th>1276020</th>\n",
              "      <td>True</td>\n",
              "      <td>30</td>\n",
              "      <td>23</td>\n",
              "      <td>2</td>\n",
              "      <td>20</td>\n",
              "      <td>Beginner Level</td>\n",
              "      <td>3.0</td>\n",
              "      <td>2017-07-03T01:36:55Z</td>\n",
              "      <td>Graphic Design</td>\n",
              "    </tr>\n",
              "    <tr>\n",
              "      <th>1276182</th>\n",
              "      <td>True</td>\n",
              "      <td>95</td>\n",
              "      <td>0</td>\n",
              "      <td>0</td>\n",
              "      <td>5</td>\n",
              "      <td>Intermediate Level</td>\n",
              "      <td>1.0</td>\n",
              "      <td>2017-07-05T04:41:54Z</td>\n",
              "      <td>Business Finance</td>\n",
              "    </tr>\n",
              "    <tr>\n",
              "      <th>1276364</th>\n",
              "      <td>True</td>\n",
              "      <td>200</td>\n",
              "      <td>1</td>\n",
              "      <td>0</td>\n",
              "      <td>52</td>\n",
              "      <td>All Levels</td>\n",
              "      <td>2.5</td>\n",
              "      <td>2017-07-05T19:06:26Z</td>\n",
              "      <td>Business Finance</td>\n",
              "    </tr>\n",
              "    <tr>\n",
              "      <th>1277924</th>\n",
              "      <td>True</td>\n",
              "      <td>40</td>\n",
              "      <td>44</td>\n",
              "      <td>0</td>\n",
              "      <td>68</td>\n",
              "      <td>All Levels</td>\n",
              "      <td>8.5</td>\n",
              "      <td>2017-07-06T15:04:55Z</td>\n",
              "      <td>Web Development</td>\n",
              "    </tr>\n",
              "    <tr>\n",
              "      <th>1282064</th>\n",
              "      <td>True</td>\n",
              "      <td>20</td>\n",
              "      <td>0</td>\n",
              "      <td>0</td>\n",
              "      <td>7</td>\n",
              "      <td>Beginner Level</td>\n",
              "      <td>2.5</td>\n",
              "      <td>2017-07-06T21:46:30Z</td>\n",
              "      <td>Business Finance</td>\n",
              "    </tr>\n",
              "  </tbody>\n",
              "</table>\n",
              "<p>3672 rows × 9 columns</p>\n",
              "</div>"
            ],
            "text/plain": [
              "           is_paid  price  ...   published_timestamp           subject\n",
              "course_id                  ...                                        \n",
              "8324          True     20  ...  2011-07-09T05:43:31Z   Web Development\n",
              "8325          True     20  ...  2011-09-09T15:28:59Z   Web Development\n",
              "11153         True     50  ...  2011-11-29T01:29:11Z   Web Development\n",
              "11174         True    120  ...  2011-11-19T21:51:20Z   Web Development\n",
              "11475         True    100  ...  2011-12-20T15:29:25Z   Web Development\n",
              "...            ...    ...  ...                   ...               ...\n",
              "1276020       True     30  ...  2017-07-03T01:36:55Z    Graphic Design\n",
              "1276182       True     95  ...  2017-07-05T04:41:54Z  Business Finance\n",
              "1276364       True    200  ...  2017-07-05T19:06:26Z  Business Finance\n",
              "1277924       True     40  ...  2017-07-06T15:04:55Z   Web Development\n",
              "1282064       True     20  ...  2017-07-06T21:46:30Z  Business Finance\n",
              "\n",
              "[3672 rows x 9 columns]"
            ]
          },
          "metadata": {
            "tags": []
          },
          "execution_count": 76
        }
      ]
    },
    {
      "cell_type": "code",
      "metadata": {
        "id": "JVeF7V55w_5m",
        "colab_type": "code",
        "colab": {
          "base_uri": "https://localhost:8080/",
          "height": 297
        },
        "outputId": "1bd8d068-737f-42d2-b92b-a89ed9c052e0"
      },
      "source": [
        "#show summary of data\n",
        "udemy_data.describe()"
      ],
      "execution_count": null,
      "outputs": [
        {
          "output_type": "execute_result",
          "data": {
            "text/html": [
              "<div>\n",
              "<style scoped>\n",
              "    .dataframe tbody tr th:only-of-type {\n",
              "        vertical-align: middle;\n",
              "    }\n",
              "\n",
              "    .dataframe tbody tr th {\n",
              "        vertical-align: top;\n",
              "    }\n",
              "\n",
              "    .dataframe thead th {\n",
              "        text-align: right;\n",
              "    }\n",
              "</style>\n",
              "<table border=\"1\" class=\"dataframe\">\n",
              "  <thead>\n",
              "    <tr style=\"text-align: right;\">\n",
              "      <th></th>\n",
              "      <th>course_id</th>\n",
              "      <th>price</th>\n",
              "      <th>num_subscribers</th>\n",
              "      <th>num_reviews</th>\n",
              "      <th>num_lectures</th>\n",
              "      <th>content_duration</th>\n",
              "    </tr>\n",
              "  </thead>\n",
              "  <tbody>\n",
              "    <tr>\n",
              "      <th>count</th>\n",
              "      <td>3.672000e+03</td>\n",
              "      <td>3672.000000</td>\n",
              "      <td>3672.000000</td>\n",
              "      <td>3672.000000</td>\n",
              "      <td>3672.000000</td>\n",
              "      <td>3672.000000</td>\n",
              "    </tr>\n",
              "    <tr>\n",
              "      <th>mean</th>\n",
              "      <td>6.758977e+05</td>\n",
              "      <td>66.102941</td>\n",
              "      <td>3190.586874</td>\n",
              "      <td>156.371460</td>\n",
              "      <td>40.140251</td>\n",
              "      <td>4.097603</td>\n",
              "    </tr>\n",
              "    <tr>\n",
              "      <th>std</th>\n",
              "      <td>3.430720e+05</td>\n",
              "      <td>61.035920</td>\n",
              "      <td>9488.105448</td>\n",
              "      <td>936.178649</td>\n",
              "      <td>50.417102</td>\n",
              "      <td>6.057830</td>\n",
              "    </tr>\n",
              "    <tr>\n",
              "      <th>min</th>\n",
              "      <td>8.324000e+03</td>\n",
              "      <td>0.000000</td>\n",
              "      <td>0.000000</td>\n",
              "      <td>0.000000</td>\n",
              "      <td>0.000000</td>\n",
              "      <td>0.000000</td>\n",
              "    </tr>\n",
              "    <tr>\n",
              "      <th>25%</th>\n",
              "      <td>4.077615e+05</td>\n",
              "      <td>20.000000</td>\n",
              "      <td>111.750000</td>\n",
              "      <td>4.000000</td>\n",
              "      <td>15.000000</td>\n",
              "      <td>1.000000</td>\n",
              "    </tr>\n",
              "    <tr>\n",
              "      <th>50%</th>\n",
              "      <td>6.876920e+05</td>\n",
              "      <td>45.000000</td>\n",
              "      <td>912.000000</td>\n",
              "      <td>18.000000</td>\n",
              "      <td>25.000000</td>\n",
              "      <td>2.000000</td>\n",
              "    </tr>\n",
              "    <tr>\n",
              "      <th>75%</th>\n",
              "      <td>9.608140e+05</td>\n",
              "      <td>95.000000</td>\n",
              "      <td>2548.750000</td>\n",
              "      <td>67.000000</td>\n",
              "      <td>46.000000</td>\n",
              "      <td>4.500000</td>\n",
              "    </tr>\n",
              "    <tr>\n",
              "      <th>max</th>\n",
              "      <td>1.282064e+06</td>\n",
              "      <td>200.000000</td>\n",
              "      <td>268923.000000</td>\n",
              "      <td>27445.000000</td>\n",
              "      <td>779.000000</td>\n",
              "      <td>78.500000</td>\n",
              "    </tr>\n",
              "  </tbody>\n",
              "</table>\n",
              "</div>"
            ],
            "text/plain": [
              "          course_id        price  ...  num_lectures  content_duration\n",
              "count  3.672000e+03  3672.000000  ...   3672.000000       3672.000000\n",
              "mean   6.758977e+05    66.102941  ...     40.140251          4.097603\n",
              "std    3.430720e+05    61.035920  ...     50.417102          6.057830\n",
              "min    8.324000e+03     0.000000  ...      0.000000          0.000000\n",
              "25%    4.077615e+05    20.000000  ...     15.000000          1.000000\n",
              "50%    6.876920e+05    45.000000  ...     25.000000          2.000000\n",
              "75%    9.608140e+05    95.000000  ...     46.000000          4.500000\n",
              "max    1.282064e+06   200.000000  ...    779.000000         78.500000\n",
              "\n",
              "[8 rows x 6 columns]"
            ]
          },
          "metadata": {
            "tags": []
          },
          "execution_count": 77
        }
      ]
    },
    {
      "cell_type": "code",
      "metadata": {
        "id": "iIcE9inWzm-X",
        "colab_type": "code",
        "colab": {
          "base_uri": "https://localhost:8080/",
          "height": 34
        },
        "outputId": "b6cbfcf0-d2be-455e-84fe-a26865f1d194"
      },
      "source": [
        "#number of subscribers doing paid courses\n",
        "(udemy_data.query('is_paid == True')).num_subscribers.sum()"
      ],
      "execution_count": null,
      "outputs": [
        {
          "output_type": "execute_result",
          "data": {
            "text/plain": [
              "8140310"
            ]
          },
          "metadata": {
            "tags": []
          },
          "execution_count": 78
        }
      ]
    },
    {
      "cell_type": "code",
      "metadata": {
        "id": "H01nhRhs2d4r",
        "colab_type": "code",
        "colab": {
          "base_uri": "https://localhost:8080/",
          "height": 34
        },
        "outputId": "996cb021-0fee-4887-dddb-13fc80b0b9c8"
      },
      "source": [
        "#number of subscribers doing free courses\n",
        "(udemy_data.query('is_paid == False')).num_subscribers.sum()"
      ],
      "execution_count": null,
      "outputs": [
        {
          "output_type": "execute_result",
          "data": {
            "text/plain": [
              "3575525"
            ]
          },
          "metadata": {
            "tags": []
          },
          "execution_count": 79
        }
      ]
    },
    {
      "cell_type": "code",
      "metadata": {
        "id": "5mhM62Bj2w-n",
        "colab_type": "code",
        "colab": {
          "base_uri": "https://localhost:8080/",
          "height": 34
        },
        "outputId": "dfef447d-57b0-4b33-c9ad-06f124871e53"
      },
      "source": [
        "#number of reviews for paid courses\n",
        "(udemy_data.query('is_paid == True')).num_reviews.sum()"
      ],
      "execution_count": null,
      "outputs": [
        {
          "output_type": "execute_result",
          "data": {
            "text/plain": [
              "442158"
            ]
          },
          "metadata": {
            "tags": []
          },
          "execution_count": 80
        }
      ]
    },
    {
      "cell_type": "code",
      "metadata": {
        "id": "Yvsnpl_j27iB",
        "colab_type": "code",
        "colab": {
          "base_uri": "https://localhost:8080/",
          "height": 34
        },
        "outputId": "81a0328f-4c53-4882-d874-1198814dd54c"
      },
      "source": [
        "#number of reviews for free courses\n",
        "(udemy_data.query('is_paid == False')).num_reviews.sum()"
      ],
      "execution_count": null,
      "outputs": [
        {
          "output_type": "execute_result",
          "data": {
            "text/plain": [
              "132038"
            ]
          },
          "metadata": {
            "tags": []
          },
          "execution_count": 81
        }
      ]
    },
    {
      "cell_type": "markdown",
      "metadata": {
        "id": "oVQwF7eXMX-5",
        "colab_type": "text"
      },
      "source": [
        "# **Data Analysis**"
      ]
    },
    {
      "cell_type": "markdown",
      "metadata": {
        "id": "RkjkjrY7zUxB",
        "colab_type": "text"
      },
      "source": [
        "**Hypothesis**:\n",
        "\n",
        "The number of subscribers for paid udemy courses are decreasing over the years."
      ]
    },
    {
      "cell_type": "code",
      "metadata": {
        "id": "f_PMeEPF0tmG",
        "colab_type": "code",
        "colab": {}
      },
      "source": [
        "#remove chained assignment warning\n",
        "pd.options.mode.chained_assignment = None"
      ],
      "execution_count": null,
      "outputs": []
    },
    {
      "cell_type": "code",
      "metadata": {
        "id": "XsDtIF3vmrP0",
        "colab_type": "code",
        "colab": {
          "base_uri": "https://localhost:8080/",
          "height": 297
        },
        "outputId": "1eb07589-0aff-4379-89c4-e7b743446e83"
      },
      "source": [
        "#convert timestamp to datetime and retrieve year\n",
        "def convertToDatetime(timestamp):\n",
        "  return pd.to_datetime(timestamp.replace('T', ' ').replace('Z', ' '))\n",
        "\n",
        "#subset the timestamp and number of subscribers, retrieve the year, drop the published timestamp column, \n",
        "#find the sum of subscribers per year and plot\n",
        "paid_subscribers = udemy_data.query('is_paid == True')\n",
        "paid_subscribers_by_timestamp = paid_subscribers[['published_timestamp', 'num_subscribers']]\n",
        "paid_subscribers_by_timestamp['year'] = paid_subscribers_by_timestamp.published_timestamp.apply(lambda timestamp: convertToDatetime(timestamp).year) \n",
        "paid_subscribers_by_timestamp.drop('published_timestamp', 1, inplace = True)\n",
        "paid_subs_per_year = paid_subscribers_by_timestamp.groupby('year').sum() \n",
        "paid_subs_per_year\n"
      ],
      "execution_count": null,
      "outputs": [
        {
          "output_type": "execute_result",
          "data": {
            "text/html": [
              "<div>\n",
              "<style scoped>\n",
              "    .dataframe tbody tr th:only-of-type {\n",
              "        vertical-align: middle;\n",
              "    }\n",
              "\n",
              "    .dataframe tbody tr th {\n",
              "        vertical-align: top;\n",
              "    }\n",
              "\n",
              "    .dataframe thead th {\n",
              "        text-align: right;\n",
              "    }\n",
              "</style>\n",
              "<table border=\"1\" class=\"dataframe\">\n",
              "  <thead>\n",
              "    <tr style=\"text-align: right;\">\n",
              "      <th></th>\n",
              "      <th>num_subscribers</th>\n",
              "    </tr>\n",
              "    <tr>\n",
              "      <th>year</th>\n",
              "      <th></th>\n",
              "    </tr>\n",
              "  </thead>\n",
              "  <tbody>\n",
              "    <tr>\n",
              "      <th>2011</th>\n",
              "      <td>119028</td>\n",
              "    </tr>\n",
              "    <tr>\n",
              "      <th>2012</th>\n",
              "      <td>308577</td>\n",
              "    </tr>\n",
              "    <tr>\n",
              "      <th>2013</th>\n",
              "      <td>760798</td>\n",
              "    </tr>\n",
              "    <tr>\n",
              "      <th>2014</th>\n",
              "      <td>1112669</td>\n",
              "    </tr>\n",
              "    <tr>\n",
              "      <th>2015</th>\n",
              "      <td>2735014</td>\n",
              "    </tr>\n",
              "    <tr>\n",
              "      <th>2016</th>\n",
              "      <td>2337674</td>\n",
              "    </tr>\n",
              "    <tr>\n",
              "      <th>2017</th>\n",
              "      <td>766550</td>\n",
              "    </tr>\n",
              "  </tbody>\n",
              "</table>\n",
              "</div>"
            ],
            "text/plain": [
              "      num_subscribers\n",
              "year                 \n",
              "2011           119028\n",
              "2012           308577\n",
              "2013           760798\n",
              "2014          1112669\n",
              "2015          2735014\n",
              "2016          2337674\n",
              "2017           766550"
            ]
          },
          "metadata": {
            "tags": []
          },
          "execution_count": 83
        }
      ]
    },
    {
      "cell_type": "code",
      "metadata": {
        "id": "X-CLD61d5iQ-",
        "colab_type": "code",
        "colab": {
          "base_uri": "https://localhost:8080/",
          "height": 266
        },
        "outputId": "bb2d0028-04a8-44d0-88f1-746ec17dbf2c"
      },
      "source": [
        "free_subscribers = udemy_data.query('is_paid == False')\n",
        "free_subscribers_by_timestamp = free_subscribers[['published_timestamp', 'num_subscribers']]\n",
        "free_subscribers_by_timestamp['year'] = free_subscribers_by_timestamp.published_timestamp.apply(lambda timestamp: convertToDatetime(timestamp).year) \n",
        "free_subscribers_by_timestamp.drop('published_timestamp', 1, inplace = True)\n",
        "free_subs_per_year = free_subscribers_by_timestamp.groupby('year').sum() \n",
        "free_subs_per_year"
      ],
      "execution_count": null,
      "outputs": [
        {
          "output_type": "execute_result",
          "data": {
            "text/html": [
              "<div>\n",
              "<style scoped>\n",
              "    .dataframe tbody tr th:only-of-type {\n",
              "        vertical-align: middle;\n",
              "    }\n",
              "\n",
              "    .dataframe tbody tr th {\n",
              "        vertical-align: top;\n",
              "    }\n",
              "\n",
              "    .dataframe thead th {\n",
              "        text-align: right;\n",
              "    }\n",
              "</style>\n",
              "<table border=\"1\" class=\"dataframe\">\n",
              "  <thead>\n",
              "    <tr style=\"text-align: right;\">\n",
              "      <th></th>\n",
              "      <th>num_subscribers</th>\n",
              "    </tr>\n",
              "    <tr>\n",
              "      <th>year</th>\n",
              "      <th></th>\n",
              "    </tr>\n",
              "  </thead>\n",
              "  <tbody>\n",
              "    <tr>\n",
              "      <th>2012</th>\n",
              "      <td>246762</td>\n",
              "    </tr>\n",
              "    <tr>\n",
              "      <th>2013</th>\n",
              "      <td>919355</td>\n",
              "    </tr>\n",
              "    <tr>\n",
              "      <th>2014</th>\n",
              "      <td>817737</td>\n",
              "    </tr>\n",
              "    <tr>\n",
              "      <th>2015</th>\n",
              "      <td>740310</td>\n",
              "    </tr>\n",
              "    <tr>\n",
              "      <th>2016</th>\n",
              "      <td>628970</td>\n",
              "    </tr>\n",
              "    <tr>\n",
              "      <th>2017</th>\n",
              "      <td>222391</td>\n",
              "    </tr>\n",
              "  </tbody>\n",
              "</table>\n",
              "</div>"
            ],
            "text/plain": [
              "      num_subscribers\n",
              "year                 \n",
              "2012           246762\n",
              "2013           919355\n",
              "2014           817737\n",
              "2015           740310\n",
              "2016           628970\n",
              "2017           222391"
            ]
          },
          "metadata": {
            "tags": []
          },
          "execution_count": 84
        }
      ]
    },
    {
      "cell_type": "code",
      "metadata": {
        "id": "QNsxScwv4Xrj",
        "colab_type": "code",
        "colab": {
          "base_uri": "https://localhost:8080/",
          "height": 297
        },
        "outputId": "a1ed40d9-b186-4aea-d6ea-51e270776c73"
      },
      "source": [
        "all_subscribers_by_timestamp = udemy_data[['num_subscribers', 'published_timestamp']]\n",
        "all_subscribers_by_timestamp['year'] = all_subscribers_by_timestamp.published_timestamp.apply(lambda timestamp: convertToDatetime(timestamp).year) \n",
        "all_subscribers_by_timestamp.drop('published_timestamp', 1, inplace = True)\n",
        "all_subs_per_year = all_subscribers_by_timestamp.groupby('year').sum() \n",
        "all_subs_per_year"
      ],
      "execution_count": null,
      "outputs": [
        {
          "output_type": "execute_result",
          "data": {
            "text/html": [
              "<div>\n",
              "<style scoped>\n",
              "    .dataframe tbody tr th:only-of-type {\n",
              "        vertical-align: middle;\n",
              "    }\n",
              "\n",
              "    .dataframe tbody tr th {\n",
              "        vertical-align: top;\n",
              "    }\n",
              "\n",
              "    .dataframe thead th {\n",
              "        text-align: right;\n",
              "    }\n",
              "</style>\n",
              "<table border=\"1\" class=\"dataframe\">\n",
              "  <thead>\n",
              "    <tr style=\"text-align: right;\">\n",
              "      <th></th>\n",
              "      <th>num_subscribers</th>\n",
              "    </tr>\n",
              "    <tr>\n",
              "      <th>year</th>\n",
              "      <th></th>\n",
              "    </tr>\n",
              "  </thead>\n",
              "  <tbody>\n",
              "    <tr>\n",
              "      <th>2011</th>\n",
              "      <td>119028</td>\n",
              "    </tr>\n",
              "    <tr>\n",
              "      <th>2012</th>\n",
              "      <td>555339</td>\n",
              "    </tr>\n",
              "    <tr>\n",
              "      <th>2013</th>\n",
              "      <td>1680153</td>\n",
              "    </tr>\n",
              "    <tr>\n",
              "      <th>2014</th>\n",
              "      <td>1930406</td>\n",
              "    </tr>\n",
              "    <tr>\n",
              "      <th>2015</th>\n",
              "      <td>3475324</td>\n",
              "    </tr>\n",
              "    <tr>\n",
              "      <th>2016</th>\n",
              "      <td>2966644</td>\n",
              "    </tr>\n",
              "    <tr>\n",
              "      <th>2017</th>\n",
              "      <td>988941</td>\n",
              "    </tr>\n",
              "  </tbody>\n",
              "</table>\n",
              "</div>"
            ],
            "text/plain": [
              "      num_subscribers\n",
              "year                 \n",
              "2011           119028\n",
              "2012           555339\n",
              "2013          1680153\n",
              "2014          1930406\n",
              "2015          3475324\n",
              "2016          2966644\n",
              "2017           988941"
            ]
          },
          "metadata": {
            "tags": []
          },
          "execution_count": 85
        }
      ]
    },
    {
      "cell_type": "code",
      "metadata": {
        "id": "8bPfChbhx3AF",
        "colab_type": "code",
        "colab": {
          "base_uri": "https://localhost:8080/",
          "height": 265
        },
        "outputId": "7df8de9a-66e7-4050-a13e-b8abe7fea53e"
      },
      "source": [
        "# plotting number of subscribers per year\n",
        "pp.plot(paid_subs_per_year, label='paid subscriptions')\n",
        "pp.plot(free_subs_per_year, label='free subscriptions')\n",
        "pp.plot(all_subs_per_year, label='all subscriptions')\n",
        "pp.gcf().axes[0].yaxis.get_major_formatter().set_scientific(False)\n",
        "pp.legend(loc=\"upper left\")\n",
        "pp.show()"
      ],
      "execution_count": null,
      "outputs": [
        {
          "output_type": "display_data",
          "data": {
            "image/png": "[encoded data removed]",
            "text/plain": [
              "<Figure size 432x288 with 1 Axes>"
            ]
          },
          "metadata": {
            "tags": [],
            "needs_background": "light"
          }
        }
      ]
    },
    {
      "cell_type": "markdown",
      "metadata": {
        "id": "dvgUmwbg3YJj",
        "colab_type": "text"
      },
      "source": [
        "The plot indicates that the number of paid subscribers is decreasing over the years. This may be due to the fact that overall number of subscribers are decreasing. However, it is noticeable that the number of subscribers taking free courses is far lower per year than the free ones."
      ]
    },
    {
      "cell_type": "markdown",
      "metadata": {
        "id": "EorjEvPu2UPN",
        "colab_type": "text"
      },
      "source": [
        "**Question 1:**\n",
        "\n",
        "Do longer courses have fewer subscribers?"
      ]
    },
    {
      "cell_type": "code",
      "metadata": {
        "id": "GXX_6mwf6YEb",
        "colab_type": "code",
        "colab": {
          "base_uri": "https://localhost:8080/",
          "height": 142
        },
        "outputId": "58e349d2-3251-4004-9e00-0546141ccb85"
      },
      "source": [
        "#determine whether longer courses have fewer subscribers\n",
        "cont_dur_per_subs = udemy_data[['content_duration', 'num_subscribers']]\n",
        "\n",
        "#set a \"high\" content duration as all those above the mean, and \"low\" as those below the mean\n",
        "\n",
        "def hasLongDuration(d):\n",
        "  return (d > cont_dur_per_subs.content_duration.mean())\n",
        "\n",
        "cont_dur_per_subs['has_long_duration'] = cont_dur_per_subs.content_duration.apply(lambda duration: hasLongDuration(duration))\n",
        "cont_dur_per_subs = cont_dur_per_subs.groupby('has_long_duration').sum()\n",
        "cont_dur_per_subs.drop('content_duration', 1, inplace = True)\n",
        "\n",
        "cont_dur_per_subs\n",
        "\n"
      ],
      "execution_count": null,
      "outputs": [
        {
          "output_type": "execute_result",
          "data": {
            "text/html": [
              "<div>\n",
              "<style scoped>\n",
              "    .dataframe tbody tr th:only-of-type {\n",
              "        vertical-align: middle;\n",
              "    }\n",
              "\n",
              "    .dataframe tbody tr th {\n",
              "        vertical-align: top;\n",
              "    }\n",
              "\n",
              "    .dataframe thead th {\n",
              "        text-align: right;\n",
              "    }\n",
              "</style>\n",
              "<table border=\"1\" class=\"dataframe\">\n",
              "  <thead>\n",
              "    <tr style=\"text-align: right;\">\n",
              "      <th></th>\n",
              "      <th>num_subscribers</th>\n",
              "    </tr>\n",
              "    <tr>\n",
              "      <th>has_long_duration</th>\n",
              "      <th></th>\n",
              "    </tr>\n",
              "  </thead>\n",
              "  <tbody>\n",
              "    <tr>\n",
              "      <th>False</th>\n",
              "      <td>6850868</td>\n",
              "    </tr>\n",
              "    <tr>\n",
              "      <th>True</th>\n",
              "      <td>4864967</td>\n",
              "    </tr>\n",
              "  </tbody>\n",
              "</table>\n",
              "</div>"
            ],
            "text/plain": [
              "                   num_subscribers\n",
              "has_long_duration                 \n",
              "False                      6850868\n",
              "True                       4864967"
            ]
          },
          "metadata": {
            "tags": []
          },
          "execution_count": 87
        }
      ]
    },
    {
      "cell_type": "code",
      "metadata": {
        "id": "Jb06354OwHW4",
        "colab_type": "code",
        "colab": {
          "base_uri": "https://localhost:8080/",
          "height": 308
        },
        "outputId": "229ce4ad-9c80-4221-ca57-02d907993e65"
      },
      "source": [
        "# content_duration_per_subscribers.plot.scatter('content_duration', 'num_subscribers')\n",
        "cont_dur_per_subs.plot.bar(rot=0)"
      ],
      "execution_count": null,
      "outputs": [
        {
          "output_type": "execute_result",
          "data": {
            "text/plain": [
              "<matplotlib.axes._subplots.AxesSubplot at 0x7f4a9eececc0>"
            ]
          },
          "metadata": {
            "tags": []
          },
          "execution_count": 88
        },
        {
          "output_type": "display_data",
          "data": {
            "image/png": "[encoded data removed]",
            "text/plain": [
              "<Figure size 432x288 with 1 Axes>"
            ]
          },
          "metadata": {
            "tags": [],
            "needs_background": "light"
          }
        }
      ]
    },
    {
      "cell_type": "markdown",
      "metadata": {
        "id": "SZj8XOgRFLdr",
        "colab_type": "text"
      },
      "source": [
        "The plots show that courses with content duration above the mean have fewer subscribers. This may indicate that subscribers prefer shorter courses."
      ]
    },
    {
      "cell_type": "markdown",
      "metadata": {
        "id": "QB1vZYSq4l7x",
        "colab_type": "text"
      },
      "source": [
        "**Question 2:**\n",
        "\n",
        "Do the courses with expert and intermediate levels of difficulty have fewer subscribers?"
      ]
    },
    {
      "cell_type": "code",
      "metadata": {
        "id": "raECARab8MmI",
        "colab_type": "code",
        "colab": {
          "base_uri": "https://localhost:8080/",
          "height": 204
        },
        "outputId": "83119b10-605b-452f-9487-1d20e615fdd3"
      },
      "source": [
        "#determine the number of subscribers in each course level\n",
        "num_subscribers_per_level = udemy_data[['level', 'num_subscribers']]\n",
        "num_subscribers_per_level = num_subscribers_per_level.groupby(['level']).sum()\n",
        "num_subscribers_per_level"
      ],
      "execution_count": null,
      "outputs": [
        {
          "output_type": "execute_result",
          "data": {
            "text/html": [
              "<div>\n",
              "<style scoped>\n",
              "    .dataframe tbody tr th:only-of-type {\n",
              "        vertical-align: middle;\n",
              "    }\n",
              "\n",
              "    .dataframe tbody tr th {\n",
              "        vertical-align: top;\n",
              "    }\n",
              "\n",
              "    .dataframe thead th {\n",
              "        text-align: right;\n",
              "    }\n",
              "</style>\n",
              "<table border=\"1\" class=\"dataframe\">\n",
              "  <thead>\n",
              "    <tr style=\"text-align: right;\">\n",
              "      <th></th>\n",
              "      <th>num_subscribers</th>\n",
              "    </tr>\n",
              "    <tr>\n",
              "      <th>level</th>\n",
              "      <th></th>\n",
              "    </tr>\n",
              "  </thead>\n",
              "  <tbody>\n",
              "    <tr>\n",
              "      <th>All Levels</th>\n",
              "      <td>6871791</td>\n",
              "    </tr>\n",
              "    <tr>\n",
              "      <th>Beginner Level</th>\n",
              "      <td>4051843</td>\n",
              "    </tr>\n",
              "    <tr>\n",
              "      <th>Expert Level</th>\n",
              "      <td>50196</td>\n",
              "    </tr>\n",
              "    <tr>\n",
              "      <th>Intermediate Level</th>\n",
              "      <td>742005</td>\n",
              "    </tr>\n",
              "  </tbody>\n",
              "</table>\n",
              "</div>"
            ],
            "text/plain": [
              "                    num_subscribers\n",
              "level                              \n",
              "All Levels                  6871791\n",
              "Beginner Level              4051843\n",
              "Expert Level                  50196\n",
              "Intermediate Level           742005"
            ]
          },
          "metadata": {
            "tags": []
          },
          "execution_count": 89
        }
      ]
    },
    {
      "cell_type": "code",
      "metadata": {
        "id": "A1RtZ8nr5C4m",
        "colab_type": "code",
        "colab": {
          "base_uri": "https://localhost:8080/",
          "height": 343
        },
        "outputId": "f5767ea2-6fa3-4f7a-de25-2301630d3876"
      },
      "source": [
        "num_subscribers_per_level.plot.bar(rot=45)\n",
        "pp.gcf().axes[0].yaxis.get_major_formatter().set_scientific(False)"
      ],
      "execution_count": null,
      "outputs": [
        {
          "output_type": "display_data",
          "data": {
            "image/png": "[encoded data removed]",
            "text/plain": [
              "<Figure size 432x288 with 1 Axes>"
            ]
          },
          "metadata": {
            "tags": [],
            "needs_background": "light"
          }
        }
      ]
    },
    {
      "cell_type": "markdown",
      "metadata": {
        "id": "Ap6oVANtFYVp",
        "colab_type": "text"
      },
      "source": [
        "Expert level courses significantly have the least subscribers. Intermediate level courses also have less than half the number of subscribers that beginner level courses have. This indicates that more people subscribe to beginner level courses."
      ]
    },
    {
      "cell_type": "markdown",
      "metadata": {
        "id": "EjOL8R_z6mHL",
        "colab_type": "text"
      },
      "source": [
        "**Question 3:**\n",
        "\n",
        "Are the paid courses longer than free courses?"
      ]
    },
    {
      "cell_type": "code",
      "metadata": {
        "id": "acg7WJ8u63Y0",
        "colab_type": "code",
        "colab": {
          "base_uri": "https://localhost:8080/",
          "height": 142
        },
        "outputId": "63b2a0dc-48b1-4cc7-b31f-a683d8e5f5e2"
      },
      "source": [
        "# determine whether courses with higher content duration are paid or free \n",
        "cont_dur_per_payment = udemy_data[['content_duration', 'is_paid']]\n",
        "\n",
        "#set a \"high\" content duration as all those above the mean, and \"low\" as those below the mean\n",
        "\n",
        "def hasLongDuration(d):\n",
        "  return (d > cont_dur_per_payment.content_duration.mean())\n",
        "\n",
        "cont_dur_per_payment['has_long_duration'] = cont_dur_per_payment.content_duration.apply(lambda duration: hasLongDuration(duration))\n",
        "cont_dur_per_payment.drop('content_duration', 1, inplace = True)\n",
        "cont_dur_per_payment = cont_dur_per_payment.groupby('is_paid').count()\n",
        "cont_dur_per_payment"
      ],
      "execution_count": null,
      "outputs": [
        {
          "output_type": "execute_result",
          "data": {
            "text/html": [
              "<div>\n",
              "<style scoped>\n",
              "    .dataframe tbody tr th:only-of-type {\n",
              "        vertical-align: middle;\n",
              "    }\n",
              "\n",
              "    .dataframe tbody tr th {\n",
              "        vertical-align: top;\n",
              "    }\n",
              "\n",
              "    .dataframe thead th {\n",
              "        text-align: right;\n",
              "    }\n",
              "</style>\n",
              "<table border=\"1\" class=\"dataframe\">\n",
              "  <thead>\n",
              "    <tr style=\"text-align: right;\">\n",
              "      <th></th>\n",
              "      <th>has_long_duration</th>\n",
              "    </tr>\n",
              "    <tr>\n",
              "      <th>is_paid</th>\n",
              "      <th></th>\n",
              "    </tr>\n",
              "  </thead>\n",
              "  <tbody>\n",
              "    <tr>\n",
              "      <th>False</th>\n",
              "      <td>310</td>\n",
              "    </tr>\n",
              "    <tr>\n",
              "      <th>True</th>\n",
              "      <td>3362</td>\n",
              "    </tr>\n",
              "  </tbody>\n",
              "</table>\n",
              "</div>"
            ],
            "text/plain": [
              "         has_long_duration\n",
              "is_paid                   \n",
              "False                  310\n",
              "True                  3362"
            ]
          },
          "metadata": {
            "tags": []
          },
          "execution_count": 91
        }
      ]
    },
    {
      "cell_type": "code",
      "metadata": {
        "id": "Iqr3hr98HCI0",
        "colab_type": "code",
        "colab": {
          "base_uri": "https://localhost:8080/",
          "height": 299
        },
        "outputId": "5b042459-26ca-48c6-bfc7-dee5ac7080ea"
      },
      "source": [
        "cont_dur_per_payment.plot.bar(rot=0)"
      ],
      "execution_count": null,
      "outputs": [
        {
          "output_type": "execute_result",
          "data": {
            "text/plain": [
              "<matplotlib.axes._subplots.AxesSubplot at 0x7f4a9ee302b0>"
            ]
          },
          "metadata": {
            "tags": []
          },
          "execution_count": 92
        },
        {
          "output_type": "display_data",
          "data": {
            "image/png": "[encoded data removed]",
            "text/plain": [
              "<Figure size 432x288 with 1 Axes>"
            ]
          },
          "metadata": {
            "tags": [],
            "needs_background": "light"
          }
        }
      ]
    },
    {
      "cell_type": "markdown",
      "metadata": {
        "id": "oZpZlauxHK9u",
        "colab_type": "text"
      },
      "source": [
        "The plot clearly shows that courses with a duration above the mean are typically paid courses, indicating that longer courses have to be paid for."
      ]
    },
    {
      "cell_type": "markdown",
      "metadata": {
        "id": "wKxUWA8n7B2c",
        "colab_type": "text"
      },
      "source": [
        "**Question 4:**\n",
        "\n",
        "Are there more subscribers doing paid courses than those doing free courses?"
      ]
    },
    {
      "cell_type": "code",
      "metadata": {
        "id": "RuMQqzVp7W6e",
        "colab_type": "code",
        "colab": {
          "base_uri": "https://localhost:8080/",
          "height": 142
        },
        "outputId": "6fe67df0-ff9a-4c56-c4df-004846e742fb"
      },
      "source": [
        "# determine whether there are more subscribers to paid courses than to free courses\n",
        "paid_and_free_num_subscribers = udemy_data[['is_paid', 'num_subscribers']]\n",
        "paid_and_free_num_subscribers = paid_and_free_num_subscribers.groupby('is_paid').sum()\n",
        "paid_and_free_num_subscribers "
      ],
      "execution_count": null,
      "outputs": [
        {
          "output_type": "execute_result",
          "data": {
            "text/html": [
              "<div>\n",
              "<style scoped>\n",
              "    .dataframe tbody tr th:only-of-type {\n",
              "        vertical-align: middle;\n",
              "    }\n",
              "\n",
              "    .dataframe tbody tr th {\n",
              "        vertical-align: top;\n",
              "    }\n",
              "\n",
              "    .dataframe thead th {\n",
              "        text-align: right;\n",
              "    }\n",
              "</style>\n",
              "<table border=\"1\" class=\"dataframe\">\n",
              "  <thead>\n",
              "    <tr style=\"text-align: right;\">\n",
              "      <th></th>\n",
              "      <th>num_subscribers</th>\n",
              "    </tr>\n",
              "    <tr>\n",
              "      <th>is_paid</th>\n",
              "      <th></th>\n",
              "    </tr>\n",
              "  </thead>\n",
              "  <tbody>\n",
              "    <tr>\n",
              "      <th>False</th>\n",
              "      <td>3575525</td>\n",
              "    </tr>\n",
              "    <tr>\n",
              "      <th>True</th>\n",
              "      <td>8140310</td>\n",
              "    </tr>\n",
              "  </tbody>\n",
              "</table>\n",
              "</div>"
            ],
            "text/plain": [
              "         num_subscribers\n",
              "is_paid                 \n",
              "False            3575525\n",
              "True             8140310"
            ]
          },
          "metadata": {
            "tags": []
          },
          "execution_count": 93
        }
      ]
    },
    {
      "cell_type": "code",
      "metadata": {
        "id": "fNE_BAmL7IHe",
        "colab_type": "code",
        "colab": {
          "base_uri": "https://localhost:8080/",
          "height": 280
        },
        "outputId": "4ed032df-a2c9-464f-c8d0-e9ffc434249f"
      },
      "source": [
        "paid_and_free_num_subscribers.plot.bar(rot=0)\n",
        "pp.gcf().axes[0].yaxis.get_major_formatter().set_scientific(False)"
      ],
      "execution_count": null,
      "outputs": [
        {
          "output_type": "display_data",
          "data": {
            "image/png": "[encoded data removed]",
            "text/plain": [
              "<Figure size 432x288 with 1 Axes>"
            ]
          },
          "metadata": {
            "tags": [],
            "needs_background": "light"
          }
        }
      ]
    },
    {
      "cell_type": "markdown",
      "metadata": {
        "id": "Tj8cwWuIHf_w",
        "colab_type": "text"
      },
      "source": [
        "The plot shows that there are surprisingly more subscribers for paid courses than free courses."
      ]
    },
    {
      "cell_type": "markdown",
      "metadata": {
        "id": "5TXAyUrs_Do5",
        "colab_type": "text"
      },
      "source": [
        "**Question 5:**\n",
        "\n",
        "Do courses with more reviews have higher number of subscribers? "
      ]
    },
    {
      "cell_type": "code",
      "metadata": {
        "id": "dUiILrkJ_Lek",
        "colab_type": "code",
        "colab": {
          "base_uri": "https://localhost:8080/",
          "height": 142
        },
        "outputId": "cb8634cd-2c89-49d2-f920-0ab6315521a0"
      },
      "source": [
        "# TODO - incomplete\n",
        "#determine whether courses with more reviews have higher subscribers\n",
        "course_reviews_and_subscribers = udemy_data[['num_reviews', 'num_subscribers']]\n",
        "\n",
        "#set a \"high\" review as all those above the mean, and \"low\" as those below the mean\n",
        "\n",
        "def hasManyReviews(r):\n",
        "  return (r > course_reviews_and_subscribers.num_reviews.mean())\n",
        "\n",
        "course_reviews_and_subscribers['has_many_reviews'] = course_reviews_and_subscribers.num_reviews.apply(lambda number_of_reviews: hasManyReviews(number_of_reviews))\n",
        "course_reviews_and_subscribers.drop('num_reviews', 1, inplace = True)\n",
        "course_reviews_and_subscribers = course_reviews_and_subscribers.groupby('has_many_reviews').sum()\n",
        "course_reviews_and_subscribers"
      ],
      "execution_count": null,
      "outputs": [
        {
          "output_type": "execute_result",
          "data": {
            "text/html": [
              "<div>\n",
              "<style scoped>\n",
              "    .dataframe tbody tr th:only-of-type {\n",
              "        vertical-align: middle;\n",
              "    }\n",
              "\n",
              "    .dataframe tbody tr th {\n",
              "        vertical-align: top;\n",
              "    }\n",
              "\n",
              "    .dataframe thead th {\n",
              "        text-align: right;\n",
              "    }\n",
              "</style>\n",
              "<table border=\"1\" class=\"dataframe\">\n",
              "  <thead>\n",
              "    <tr style=\"text-align: right;\">\n",
              "      <th></th>\n",
              "      <th>num_subscribers</th>\n",
              "    </tr>\n",
              "    <tr>\n",
              "      <th>has_many_reviews</th>\n",
              "      <th></th>\n",
              "    </tr>\n",
              "  </thead>\n",
              "  <tbody>\n",
              "    <tr>\n",
              "      <th>False</th>\n",
              "      <td>4717222</td>\n",
              "    </tr>\n",
              "    <tr>\n",
              "      <th>True</th>\n",
              "      <td>6998613</td>\n",
              "    </tr>\n",
              "  </tbody>\n",
              "</table>\n",
              "</div>"
            ],
            "text/plain": [
              "                  num_subscribers\n",
              "has_many_reviews                 \n",
              "False                     4717222\n",
              "True                      6998613"
            ]
          },
          "metadata": {
            "tags": []
          },
          "execution_count": 95
        }
      ]
    },
    {
      "cell_type": "code",
      "metadata": {
        "id": "vdAbV0BrJJlI",
        "colab_type": "code",
        "colab": {
          "base_uri": "https://localhost:8080/",
          "height": 308
        },
        "outputId": "4a0f393b-03e3-4498-e39d-3a6261255042"
      },
      "source": [
        "course_reviews_and_subscribers.plot.bar(rot=0)"
      ],
      "execution_count": null,
      "outputs": [
        {
          "output_type": "execute_result",
          "data": {
            "text/plain": [
              "<matplotlib.axes._subplots.AxesSubplot at 0x7f4a9ed01860>"
            ]
          },
          "metadata": {
            "tags": []
          },
          "execution_count": 96
        },
        {
          "output_type": "display_data",
          "data": {
            "image/png": "[encoded data removed]",
            "text/plain": [
              "<Figure size 432x288 with 1 Axes>"
            ]
          },
          "metadata": {
            "tags": [],
            "needs_background": "light"
          }
        }
      ]
    },
    {
      "cell_type": "markdown",
      "metadata": {
        "id": "y2pOO9OLIVcS",
        "colab_type": "text"
      },
      "source": [
        "Intuitively, a course with higher number of subscribers should have more reviews. This is true from the graph. This cannot be used to gain much insight because more subscribers for a course would definitely mean the course gets more reviews. The factor which would have given more information would have been review ratings, but this data was not available.  "
      ]
    },
    {
      "cell_type": "markdown",
      "metadata": {
        "id": "-9RFx0ZyXAO_",
        "colab_type": "text"
      },
      "source": [
        "**Question 6:**\n",
        "\n",
        "Do paid courses have more lectures than free courses? "
      ]
    },
    {
      "cell_type": "code",
      "metadata": {
        "id": "iXm_WVLEXOQb",
        "colab_type": "code",
        "colab": {
          "base_uri": "https://localhost:8080/",
          "height": 142
        },
        "outputId": "fd6e5c59-1231-4e3b-b992-c8f255524146"
      },
      "source": [
        "# determine whether free or paid courses have more lectures\n",
        "paid_and_free_courses_lectures = udemy_data[['is_paid', 'num_lectures']] \n",
        "paid_and_free_courses_lectures = paid_and_free_courses_lectures.groupby('is_paid').sum()\n",
        "paid_and_free_courses_lectures"
      ],
      "execution_count": null,
      "outputs": [
        {
          "output_type": "execute_result",
          "data": {
            "text/html": [
              "<div>\n",
              "<style scoped>\n",
              "    .dataframe tbody tr th:only-of-type {\n",
              "        vertical-align: middle;\n",
              "    }\n",
              "\n",
              "    .dataframe tbody tr th {\n",
              "        vertical-align: top;\n",
              "    }\n",
              "\n",
              "    .dataframe thead th {\n",
              "        text-align: right;\n",
              "    }\n",
              "</style>\n",
              "<table border=\"1\" class=\"dataframe\">\n",
              "  <thead>\n",
              "    <tr style=\"text-align: right;\">\n",
              "      <th></th>\n",
              "      <th>num_lectures</th>\n",
              "    </tr>\n",
              "    <tr>\n",
              "      <th>is_paid</th>\n",
              "      <th></th>\n",
              "    </tr>\n",
              "  </thead>\n",
              "  <tbody>\n",
              "    <tr>\n",
              "      <th>False</th>\n",
              "      <td>6639</td>\n",
              "    </tr>\n",
              "    <tr>\n",
              "      <th>True</th>\n",
              "      <td>140756</td>\n",
              "    </tr>\n",
              "  </tbody>\n",
              "</table>\n",
              "</div>"
            ],
            "text/plain": [
              "         num_lectures\n",
              "is_paid              \n",
              "False            6639\n",
              "True           140756"
            ]
          },
          "metadata": {
            "tags": []
          },
          "execution_count": 97
        }
      ]
    },
    {
      "cell_type": "code",
      "metadata": {
        "id": "TNm_7QuuXzYM",
        "colab_type": "code",
        "colab": {
          "base_uri": "https://localhost:8080/",
          "height": 297
        },
        "outputId": "5b9f6362-ba81-41f7-bd12-b946580cd6cb"
      },
      "source": [
        "paid_and_free_courses_lectures.plot.bar(rot=0)"
      ],
      "execution_count": null,
      "outputs": [
        {
          "output_type": "execute_result",
          "data": {
            "text/plain": [
              "<matplotlib.axes._subplots.AxesSubplot at 0x7f4a9ecd2ac8>"
            ]
          },
          "metadata": {
            "tags": []
          },
          "execution_count": 98
        },
        {
          "output_type": "display_data",
          "data": {
            "image/png": "[encoded data removed]",
            "text/plain": [
              "<Figure size 432x288 with 1 Axes>"
            ]
          },
          "metadata": {
            "tags": [],
            "needs_background": "light"
          }
        }
      ]
    },
    {
      "cell_type": "markdown",
      "metadata": {
        "id": "jfshRpstJzot",
        "colab_type": "text"
      },
      "source": [
        "Paid courses are seen to have far more lectures in each course than the free ones, which would make sense from a business point of view - more lectures should be paid for."
      ]
    },
    {
      "cell_type": "markdown",
      "metadata": {
        "id": "dri2fxz1Y5iB",
        "colab_type": "text"
      },
      "source": [
        "**Question 7:**\n",
        "\n",
        "Which subject has the most subscribers? "
      ]
    },
    {
      "cell_type": "code",
      "metadata": {
        "id": "1SN-uWfr8kSC",
        "colab_type": "code",
        "colab": {
          "base_uri": "https://localhost:8080/",
          "height": 204
        },
        "outputId": "79a9e437-6d51-45cd-9f12-a65c7a8005cf"
      },
      "source": [
        "#determine the number of subscribers for each subject (Business Finance, Graphic Design, Musical Instruments and Web Design)\n",
        "num_subscribers_per_subject = udemy_data[['subject', 'num_subscribers']]\n",
        "num_subscribers_per_subject = num_subscribers_per_subject.groupby(['subject']).sum()\n",
        "num_subscribers_per_subject"
      ],
      "execution_count": null,
      "outputs": [
        {
          "output_type": "execute_result",
          "data": {
            "text/html": [
              "<div>\n",
              "<style scoped>\n",
              "    .dataframe tbody tr th:only-of-type {\n",
              "        vertical-align: middle;\n",
              "    }\n",
              "\n",
              "    .dataframe tbody tr th {\n",
              "        vertical-align: top;\n",
              "    }\n",
              "\n",
              "    .dataframe thead th {\n",
              "        text-align: right;\n",
              "    }\n",
              "</style>\n",
              "<table border=\"1\" class=\"dataframe\">\n",
              "  <thead>\n",
              "    <tr style=\"text-align: right;\">\n",
              "      <th></th>\n",
              "      <th>num_subscribers</th>\n",
              "    </tr>\n",
              "    <tr>\n",
              "      <th>subject</th>\n",
              "      <th></th>\n",
              "    </tr>\n",
              "  </thead>\n",
              "  <tbody>\n",
              "    <tr>\n",
              "      <th>Business Finance</th>\n",
              "      <td>1868711</td>\n",
              "    </tr>\n",
              "    <tr>\n",
              "      <th>Graphic Design</th>\n",
              "      <td>1063148</td>\n",
              "    </tr>\n",
              "    <tr>\n",
              "      <th>Musical Instruments</th>\n",
              "      <td>846689</td>\n",
              "    </tr>\n",
              "    <tr>\n",
              "      <th>Web Development</th>\n",
              "      <td>7937287</td>\n",
              "    </tr>\n",
              "  </tbody>\n",
              "</table>\n",
              "</div>"
            ],
            "text/plain": [
              "                     num_subscribers\n",
              "subject                             \n",
              "Business Finance             1868711\n",
              "Graphic Design               1063148\n",
              "Musical Instruments           846689\n",
              "Web Development              7937287"
            ]
          },
          "metadata": {
            "tags": []
          },
          "execution_count": 99
        }
      ]
    },
    {
      "cell_type": "code",
      "metadata": {
        "id": "3c6V_Na6Y9c4",
        "colab_type": "code",
        "colab": {
          "base_uri": "https://localhost:8080/",
          "height": 348
        },
        "outputId": "3076508f-1671-49f6-bc65-b684cf644b35"
      },
      "source": [
        "num_subscribers_per_subject.plot.bar(rot=45)\n",
        "pp.gcf().axes[0].yaxis.get_major_formatter().set_scientific(False)"
      ],
      "execution_count": null,
      "outputs": [
        {
          "output_type": "display_data",
          "data": {
            "image/png": "[encoded data removed]",
            "text/plain": [
              "<Figure size 432x288 with 1 Axes>"
            ]
          },
          "metadata": {
            "tags": [],
            "needs_background": "light"
          }
        }
      ]
    },
    {
      "cell_type": "markdown",
      "metadata": {
        "id": "Dos3EsHRKAy9",
        "colab_type": "text"
      },
      "source": [
        "Web Development significantly has the highest number of subscribers, showing that users are generally interested in Web Development courses. Musical Instruments seem to be the least popular."
      ]
    },
    {
      "cell_type": "markdown",
      "metadata": {
        "id": "ewinaO4sbZuJ",
        "colab_type": "text"
      },
      "source": [
        "**Question 8:**\n",
        "\n",
        "Which subject has the most paid courses? "
      ]
    },
    {
      "cell_type": "code",
      "metadata": {
        "id": "VaGT0r6Cbc_J",
        "colab_type": "code",
        "colab": {
          "base_uri": "https://localhost:8080/",
          "height": 204
        },
        "outputId": "8d41334a-60bc-48f3-abab-829bb104e62d"
      },
      "source": [
        "paid_courses = udemy_data.query('is_paid == True')\n",
        "paid_courses_by_subject = paid_courses[['course_id', 'subject']]#; paid_courses_by_subject\n",
        "paid_courses_by_subject = paid_courses_by_subject.groupby('subject').count()\n",
        "paid_courses_by_subject.rename(columns={'course_id': 'num_paid_courses'}, inplace = True)\n",
        "paid_courses_by_subject.head()"
      ],
      "execution_count": null,
      "outputs": [
        {
          "output_type": "execute_result",
          "data": {
            "text/html": [
              "<div>\n",
              "<style scoped>\n",
              "    .dataframe tbody tr th:only-of-type {\n",
              "        vertical-align: middle;\n",
              "    }\n",
              "\n",
              "    .dataframe tbody tr th {\n",
              "        vertical-align: top;\n",
              "    }\n",
              "\n",
              "    .dataframe thead th {\n",
              "        text-align: right;\n",
              "    }\n",
              "</style>\n",
              "<table border=\"1\" class=\"dataframe\">\n",
              "  <thead>\n",
              "    <tr style=\"text-align: right;\">\n",
              "      <th></th>\n",
              "      <th>num_paid_courses</th>\n",
              "    </tr>\n",
              "    <tr>\n",
              "      <th>subject</th>\n",
              "      <th></th>\n",
              "    </tr>\n",
              "  </thead>\n",
              "  <tbody>\n",
              "    <tr>\n",
              "      <th>Business Finance</th>\n",
              "      <td>1095</td>\n",
              "    </tr>\n",
              "    <tr>\n",
              "      <th>Graphic Design</th>\n",
              "      <td>567</td>\n",
              "    </tr>\n",
              "    <tr>\n",
              "      <th>Musical Instruments</th>\n",
              "      <td>634</td>\n",
              "    </tr>\n",
              "    <tr>\n",
              "      <th>Web Development</th>\n",
              "      <td>1066</td>\n",
              "    </tr>\n",
              "  </tbody>\n",
              "</table>\n",
              "</div>"
            ],
            "text/plain": [
              "                     num_paid_courses\n",
              "subject                              \n",
              "Business Finance                 1095\n",
              "Graphic Design                    567\n",
              "Musical Instruments               634\n",
              "Web Development                  1066"
            ]
          },
          "metadata": {
            "tags": []
          },
          "execution_count": 101
        }
      ]
    },
    {
      "cell_type": "code",
      "metadata": {
        "id": "Z5idgXbPtvFg",
        "colab_type": "code",
        "colab": {
          "base_uri": "https://localhost:8080/",
          "height": 365
        },
        "outputId": "351fecf8-1956-4bef-d720-e9419a0a0602"
      },
      "source": [
        "paid_courses_by_subject.plot.bar(rot=45)"
      ],
      "execution_count": null,
      "outputs": [
        {
          "output_type": "execute_result",
          "data": {
            "text/plain": [
              "<matplotlib.axes._subplots.AxesSubplot at 0x7f4a9ecad2b0>"
            ]
          },
          "metadata": {
            "tags": []
          },
          "execution_count": 102
        },
        {
          "output_type": "display_data",
          "data": {
            "image/png": "[encoded data removed]",
            "text/plain": [
              "<Figure size 432x288 with 1 Axes>"
            ]
          },
          "metadata": {
            "tags": [],
            "needs_background": "light"
          }
        }
      ]
    },
    {
      "cell_type": "markdown",
      "metadata": {
        "id": "XNQbO7xxKTxS",
        "colab_type": "text"
      },
      "source": [
        "Business Finance subjects have the most paid courses, followed by Web Development. This result is interesting because Business Finance courses have less than half the number of subscribers that Web Development courses have. This may mean that users generally avoid Business Finance courses because they have to pay for them, although this cannot be proven without further analysis. "
      ]
    },
    {
      "cell_type": "code",
      "metadata": {
        "id": "RxtqyRndNv0H",
        "colab_type": "code",
        "colab": {
          "base_uri": "https://localhost:8080/",
          "height": 204
        },
        "outputId": "35b8176e-18bf-486c-8445-81c18a49dce7"
      },
      "source": [
        "#determine the average cost of paid courses for each subject (Business Finance, Graphic Design, Musical Instruments and Web Design)\n",
        "avg_price_per_subject = paid_courses[['subject', 'price']]\n",
        "avg_price_per_subject = avg_price_per_subject.groupby(['subject']).mean()\n",
        "avg_price_per_subject"
      ],
      "execution_count": null,
      "outputs": [
        {
          "output_type": "execute_result",
          "data": {
            "text/html": [
              "<div>\n",
              "<style scoped>\n",
              "    .dataframe tbody tr th:only-of-type {\n",
              "        vertical-align: middle;\n",
              "    }\n",
              "\n",
              "    .dataframe tbody tr th {\n",
              "        vertical-align: top;\n",
              "    }\n",
              "\n",
              "    .dataframe thead th {\n",
              "        text-align: right;\n",
              "    }\n",
              "</style>\n",
              "<table border=\"1\" class=\"dataframe\">\n",
              "  <thead>\n",
              "    <tr style=\"text-align: right;\">\n",
              "      <th></th>\n",
              "      <th>price</th>\n",
              "    </tr>\n",
              "    <tr>\n",
              "      <th>subject</th>\n",
              "      <th></th>\n",
              "    </tr>\n",
              "  </thead>\n",
              "  <tbody>\n",
              "    <tr>\n",
              "      <th>Business Finance</th>\n",
              "      <td>74.716895</td>\n",
              "    </tr>\n",
              "    <tr>\n",
              "      <th>Graphic Design</th>\n",
              "      <td>61.463845</td>\n",
              "    </tr>\n",
              "    <tr>\n",
              "      <th>Musical Instruments</th>\n",
              "      <td>53.154574</td>\n",
              "    </tr>\n",
              "    <tr>\n",
              "      <th>Web Development</th>\n",
              "      <td>86.646341</td>\n",
              "    </tr>\n",
              "  </tbody>\n",
              "</table>\n",
              "</div>"
            ],
            "text/plain": [
              "                         price\n",
              "subject                       \n",
              "Business Finance     74.716895\n",
              "Graphic Design       61.463845\n",
              "Musical Instruments  53.154574\n",
              "Web Development      86.646341"
            ]
          },
          "metadata": {
            "tags": []
          },
          "execution_count": 104
        }
      ]
    },
    {
      "cell_type": "code",
      "metadata": {
        "id": "F5cUhEieOSN8",
        "colab_type": "code",
        "colab": {
          "base_uri": "https://localhost:8080/",
          "height": 365
        },
        "outputId": "f2105d9f-0d59-4e77-a11b-9ffe5624740e"
      },
      "source": [
        "avg_price_per_subject.plot.bar(rot=45)"
      ],
      "execution_count": null,
      "outputs": [
        {
          "output_type": "execute_result",
          "data": {
            "text/plain": [
              "<matplotlib.axes._subplots.AxesSubplot at 0x7f4a9e8487f0>"
            ]
          },
          "metadata": {
            "tags": []
          },
          "execution_count": 105
        },
        {
          "output_type": "display_data",
          "data": {
            "image/png": "[encoded data removed]",
            "text/plain": [
              "<Figure size 432x288 with 1 Axes>"
            ]
          },
          "metadata": {
            "tags": [],
            "needs_background": "light"
          }
        }
      ]
    },
    {
      "cell_type": "markdown",
      "metadata": {
        "id": "_uoc6BWKOYB4",
        "colab_type": "text"
      },
      "source": [
        "Web Development courses were found to be averagely the most expensive, with Musical Instruments courses costing the least. "
      ]
    },
    {
      "cell_type": "markdown",
      "metadata": {
        "id": "DxVoDoIyMdCe",
        "colab_type": "text"
      },
      "source": [
        "# **Summary**"
      ]
    },
    {
      "cell_type": "markdown",
      "metadata": {
        "id": "L2yz3fMVMgSl",
        "colab_type": "text"
      },
      "source": [
        "Although the number of paid subscribers for Udemy courses were found to be decreasing, it cannot be said to be directly because of the fact that they are not free. \n",
        "In fact, there are far more subscribers for paid courses per year than the subscribers for free courses. \n",
        "\n",
        "Paid courses were found to have longer duration, which may affect subscriber interest. \n",
        "\n",
        "Courses on Musical Instruments were the least popular, with high interest in Web Development courses. This is interesting because Musical Instruments courses were found to averagely cost the least out of all the subjects, and Web Development courses cost the most. \n",
        "\n",
        "Expert level courses had the least number of subscribers. This may be due to a number of Musical Instruments courses being classified as Expert level, but this is yet to be proven."
      ]
    }
  ]
}